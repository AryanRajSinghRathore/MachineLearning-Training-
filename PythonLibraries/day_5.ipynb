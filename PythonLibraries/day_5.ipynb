{
 "cells": [
  {
   "cell_type": "code",
   "execution_count": 3,
   "metadata": {},
   "outputs": [
    {
     "name": "stdout",
     "output_type": "stream",
     "text": [
      "Value of a is: 6\n",
      "Value of a is: 7\n",
      "Value of a is: 8\n",
      "Value of a is: 9\n",
      "Value of a is: 10\n",
      "Value of a is: 11\n",
      "Value of a is: 12\n",
      "Value of a is: 13\n",
      "Value of a is: 14\n",
      "Value of a is: 15\n",
      "Value of a is: 16\n",
      "Value of a is: 17\n",
      "Value of a is: 18\n",
      "Value of a is: 19\n",
      "Value of a is: 20\n"
     ]
    }
   ],
   "source": [
    "a = 5\n",
    "while a<20 :\n",
    "    a += 1\n",
    "    print(\"Value of a is:\", a)"
   ]
  },
  {
   "cell_type": "code",
   "execution_count": 6,
   "metadata": {},
   "outputs": [
    {
     "name": "stdout",
     "output_type": "stream",
     "text": [
      "value of a is 6\n",
      "value of a is 7\n",
      "value of a is 8\n"
     ]
    }
   ],
   "source": [
    "a = 5 \n",
    "while a<20 :\n",
    "    a += 1\n",
    "    print(f\"value of a is {a}\")\n",
    "    if a == 8 :\n",
    "        break\n",
    "\n",
    "else :\n",
    "    print(\"here is else\")"
   ]
  },
  {
   "cell_type": "code",
   "execution_count": 7,
   "metadata": {},
   "outputs": [
    {
     "name": "stdout",
     "output_type": "stream",
     "text": [
      "value of a is 6\n",
      "value of a is 7\n",
      "value of a is 8\n",
      "value of a is 9\n",
      "value of a is 10\n",
      "value of a is 11\n",
      "value of a is 12\n",
      "value of a is 13\n",
      "value of a is 14\n",
      "value of a is 15\n",
      "value of a is 16\n",
      "value of a is 17\n",
      "value of a is 18\n",
      "value of a is 19\n",
      "value of a is 20\n",
      "here is else\n"
     ]
    }
   ],
   "source": [
    "a = 5 \n",
    "while a<20 :\n",
    "    a += 1\n",
    "    print(f\"value of a is {a}\")\n",
    "    if a == 8 :\n",
    "        continue\n",
    "        print(\"continue\")\n",
    "\n",
    "else :\n",
    "    print(\"here is else\")"
   ]
  },
  {
   "cell_type": "code",
   "execution_count": 9,
   "metadata": {},
   "outputs": [
    {
     "name": "stdout",
     "output_type": "stream",
     "text": [
      "value of a is 6\n",
      "value of a is 7\n",
      "value of a is 8\n",
      "here is else\n"
     ]
    }
   ],
   "source": [
    "a = 5 \n",
    "while a<20 :\n",
    "    a += 1\n",
    "    print(f\"value of a is {a}\")\n",
    "    if a == 8 :\n",
    "        a = 21\n",
    "\n",
    "else :\n",
    "    print(\"here is else\")"
   ]
  },
  {
   "cell_type": "code",
   "execution_count": 10,
   "metadata": {},
   "outputs": [
    {
     "name": "stdout",
     "output_type": "stream",
     "text": [
      "value of a is 6\n",
      "value of a is 7\n",
      "value of a is 8\n",
      "here is else\n"
     ]
    }
   ],
   "source": [
    "a = 5 \n",
    "any_cond = True\n",
    "while any_cond :\n",
    "    a += 1\n",
    "    print(f\"value of a is {a}\")\n",
    "    if a == 8 :\n",
    "        any_cond = False\n",
    "\n",
    "else :\n",
    "    print(\"here is else\")"
   ]
  },
  {
   "cell_type": "code",
   "execution_count": 17,
   "metadata": {},
   "outputs": [
    {
     "name": "stdout",
     "output_type": "stream",
     "text": [
      "ARYAN\n",
      "RYAN\n",
      "YAN\n",
      "AN\n",
      "N\n",
      "\n"
     ]
    }
   ],
   "source": [
    "i = \"ARYAN\"\n",
    "a=0\n",
    "while a<6:\n",
    "    print(i)\n",
    "    a += 1\n",
    "    i= i[1:]\n",
    "    \n",
    "    "
   ]
  },
  {
   "cell_type": "code",
   "execution_count": 18,
   "metadata": {},
   "outputs": [
    {
     "name": "stdout",
     "output_type": "stream",
     "text": [
      "ARYAN\n",
      "RYAN\n",
      "YAN\n",
      "AN\n",
      "N\n"
     ]
    }
   ],
   "source": [
    "i = \"ARYAN\"\n",
    "while i:\n",
    "    print(i)\n",
    "    i= i[1:]\n",
    "    \n",
    "    "
   ]
  },
  {
   "attachments": {},
   "cell_type": "markdown",
   "metadata": {},
   "source": [
    "#FOR LOOP\n"
   ]
  },
  {
   "cell_type": "code",
   "execution_count": 19,
   "metadata": {},
   "outputs": [
    {
     "name": "stdout",
     "output_type": "stream",
     "text": [
      "FOR loop is running\n",
      "FOR loop is running\n",
      "FOR loop is running\n",
      "FOR loop is running\n",
      "FOR loop is running\n"
     ]
    }
   ],
   "source": [
    "lst = [1,2,3,4,5]\n",
    "\n",
    "for item in lst:\n",
    "    print(\"FOR loop is running\")"
   ]
  },
  {
   "cell_type": "code",
   "execution_count": 20,
   "metadata": {},
   "outputs": [
    {
     "name": "stdout",
     "output_type": "stream",
     "text": [
      "1\n",
      "2\n",
      "3\n",
      "4\n",
      "5\n"
     ]
    }
   ],
   "source": [
    "lst = [1,2,3,4,5]\n",
    "\n",
    "for item in lst:\n",
    "    print(item)"
   ]
  },
  {
   "cell_type": "code",
   "execution_count": 22,
   "metadata": {},
   "outputs": [
    {
     "name": "stdout",
     "output_type": "stream",
     "text": [
      "1\n",
      "2\n",
      "3\n",
      "4\n",
      "5\n",
      "6\n"
     ]
    }
   ],
   "source": [
    "lst1 = [1,2,3,4,5,6,7,8,9]\n",
    "\n",
    "for item in lst1:\n",
    "    if item == 7:\n",
    "        break\n",
    "    print(item)"
   ]
  },
  {
   "cell_type": "code",
   "execution_count": 37,
   "metadata": {},
   "outputs": [
    {
     "name": "stdout",
     "output_type": "stream",
     "text": [
      "120\n"
     ]
    }
   ],
   "source": [
    "num1 = 5\n",
    "fact =1\n",
    "for i in range(1,num1+1):\n",
    "    fact = fact*i\n",
    "print(fact)"
   ]
  },
  {
   "cell_type": "code",
   "execution_count": 38,
   "metadata": {},
   "outputs": [
    {
     "name": "stdout",
     "output_type": "stream",
     "text": [
      "2\n",
      "4\n",
      "6\n",
      "8\n",
      "10\n",
      "12\n",
      "14\n",
      "16\n",
      "18\n",
      "20\n",
      "22\n",
      "24\n",
      "26\n",
      "28\n",
      "30\n",
      "32\n",
      "34\n",
      "36\n",
      "38\n",
      "40\n",
      "42\n",
      "44\n",
      "46\n",
      "48\n",
      "50\n"
     ]
    }
   ],
   "source": [
    "a = 50\n",
    "for i in range(1,a+1):\n",
    "    if i%2 == 0 :\n",
    "        print(i)"
   ]
  },
  {
   "cell_type": "code",
   "execution_count": 46,
   "metadata": {},
   "outputs": [
    {
     "name": "stdout",
     "output_type": "stream",
     "text": [
      "['MANGO', 'BANANA', 'APPLE']\n"
     ]
    }
   ],
   "source": [
    "w = [\"apple\",\"Banana\",\"Mango\"]\n",
    "W = []\n",
    "for item in w:\n",
    "    W.append(item.upper())\n",
    "W=W[::-1]\n",
    "print(W)    "
   ]
  },
  {
   "cell_type": "code",
   "execution_count": 49,
   "metadata": {},
   "outputs": [
    {
     "name": "stdout",
     "output_type": "stream",
     "text": [
      "{1: 1, 2: 4, 3: 9, 4: 16, 5: 25}\n"
     ]
    }
   ],
   "source": [
    "N=[1,2,3,4,5]\n",
    "n={}\n",
    "for item in N:\n",
    "    n[item] = item**2\n",
    "print(n)\n",
    "    "
   ]
  },
  {
   "cell_type": "code",
   "execution_count": 21,
   "metadata": {},
   "outputs": [
    {
     "name": "stdout",
     "output_type": "stream",
     "text": [
      "{'aryan': 20, 'xyz': 23, 'abc': 21}\n"
     ]
    }
   ],
   "source": [
    "names = [\"aryan\", \"xyz\" , \"abc\"]\n",
    "ages =[20,23,21]\n",
    "v ={}\n",
    "for n in names:\n",
    "    v[n] = ages[names.index(n)]\n",
    "print(v)\n"
   ]
  },
  {
   "cell_type": "code",
   "execution_count": 6,
   "metadata": {},
   "outputs": [
    {
     "name": "stdout",
     "output_type": "stream",
     "text": [
      "['aryan', 'xyz', 'abc']\n"
     ]
    }
   ],
   "source": [
    "t = dict(zip(names,ages))\n",
    "lst3=[]\n",
    "for item in t:\n",
    "    lst3.append(item)\n",
    "print(lst3)\n",
    "\n"
   ]
  },
  {
   "cell_type": "code",
   "execution_count": 10,
   "metadata": {},
   "outputs": [
    {
     "name": "stdout",
     "output_type": "stream",
     "text": [
      "<method 'keys' of 'dict' objects>\n"
     ]
    }
   ],
   "source": [
    "dict(zip(names,ages))\n",
    "print(dict.keys)"
   ]
  },
  {
   "cell_type": "code",
   "execution_count": 22,
   "metadata": {},
   "outputs": [
    {
     "data": {
      "text/plain": [
       "dict_items([('aryan', 20), ('xyz', 23), ('abc', 21)])"
      ]
     },
     "execution_count": 22,
     "metadata": {},
     "output_type": "execute_result"
    }
   ],
   "source": [
    "\n",
    "v.items()"
   ]
  },
  {
   "cell_type": "code",
   "execution_count": 25,
   "metadata": {},
   "outputs": [
    {
     "name": "stdout",
     "output_type": "stream",
     "text": [
      "['aryan', 'xyz', 'abc']\n",
      "[20, 23, 21]\n"
     ]
    }
   ],
   "source": [
    "k = []\n",
    "r = []\n",
    "\n",
    "for key,Val in v.items():\n",
    "    k.append(key)\n",
    "    r.append(Val)\n",
    "print(k)\n",
    "print(r)"
   ]
  },
  {
   "attachments": {},
   "cell_type": "markdown",
   "metadata": {},
   "source": [
    "#COMPREHENSIONS"
   ]
  },
  {
   "cell_type": "code",
   "execution_count": 26,
   "metadata": {},
   "outputs": [
    {
     "data": {
      "text/plain": [
       "[0, 9, 36, 81, 144, 225, 324]"
      ]
     },
     "execution_count": 26,
     "metadata": {},
     "output_type": "execute_result"
    }
   ],
   "source": [
    "sq = [num**2 for num in range(20) if num%3 == 0]\n",
    "sq"
   ]
  },
  {
   "cell_type": "code",
   "execution_count": 28,
   "metadata": {},
   "outputs": [
    {
     "data": {
      "text/plain": [
       "[1, 4, 9, 16, 25]"
      ]
     },
     "execution_count": 28,
     "metadata": {},
     "output_type": "execute_result"
    }
   ],
   "source": [
    "lst = [1,2,3,4,5]\n",
    "sq1 = [num**2 for num in lst]\n",
    "sq1"
   ]
  },
  {
   "cell_type": "code",
   "execution_count": 30,
   "metadata": {},
   "outputs": [
    {
     "data": {
      "text/plain": [
       "[4, 16]"
      ]
     },
     "execution_count": 30,
     "metadata": {},
     "output_type": "execute_result"
    }
   ],
   "source": [
    "sq2 =[ num**2 for num in lst if num%2 == 0]\n",
    "sq2"
   ]
  },
  {
   "cell_type": "code",
   "execution_count": 32,
   "metadata": {},
   "outputs": [
    {
     "data": {
      "text/plain": [
       "[1, 4, 3, 16, 5]"
      ]
     },
     "execution_count": 32,
     "metadata": {},
     "output_type": "execute_result"
    }
   ],
   "source": [
    "sq3 =[ num**2 if num%2 == 0 else num for num in lst s]\n",
    "sq3"
   ]
  }
 ],
 "metadata": {
  "kernelspec": {
   "display_name": "Python 3",
   "language": "python",
   "name": "python3"
  },
  "language_info": {
   "codemirror_mode": {
    "name": "ipython",
    "version": 3
   },
   "file_extension": ".py",
   "mimetype": "text/x-python",
   "name": "python",
   "nbconvert_exporter": "python",
   "pygments_lexer": "ipython3",
   "version": "3.10.7"
  },
  "orig_nbformat": 4
 },
 "nbformat": 4,
 "nbformat_minor": 2
}
